{
 "cells": [
  {
   "cell_type": "code",
   "execution_count": 2,
   "id": "a5a8aa8b",
   "metadata": {},
   "outputs": [
    {
     "name": "stdout",
     "output_type": "stream",
     "text": [
      "6.9\n"
     ]
    }
   ],
   "source": [
    "# round() function\n",
    "#round(variable,how many digit you whant)\n",
    "\n",
    "a=6.9000000000\n",
    "print(round(a,2))\n"
   ]
  },
  {
   "cell_type": "code",
   "execution_count": 3,
   "id": "4cb02dc1",
   "metadata": {},
   "outputs": [
    {
     "data": {
      "text/plain": [
       "256"
      ]
     },
     "execution_count": 3,
     "metadata": {},
     "output_type": "execute_result"
    }
   ],
   "source": [
    "#power\n",
    "4**4\n"
   ]
  },
  {
   "cell_type": "code",
   "execution_count": 4,
   "id": "c589b662",
   "metadata": {},
   "outputs": [
    {
     "data": {
      "text/plain": [
       "16"
      ]
     },
     "execution_count": 4,
     "metadata": {},
     "output_type": "execute_result"
    }
   ],
   "source": [
    "10+2*3"
   ]
  },
  {
   "cell_type": "code",
   "execution_count": 5,
   "id": "baca3046",
   "metadata": {},
   "outputs": [
    {
     "data": {
      "text/plain": [
       "39"
      ]
     },
     "execution_count": 5,
     "metadata": {},
     "output_type": "execute_result"
    }
   ],
   "source": [
    "(10+3)*3"
   ]
  },
  {
   "cell_type": "code",
   "execution_count": 6,
   "id": "3c1a0db6",
   "metadata": {},
   "outputs": [
    {
     "data": {
      "text/plain": [
       "0.3"
      ]
     },
     "execution_count": 6,
     "metadata": {},
     "output_type": "execute_result"
    }
   ],
   "source": [
    "round(6-5.7,2)"
   ]
  },
  {
   "cell_type": "code",
   "execution_count": null,
   "id": "f1df0ba3",
   "metadata": {},
   "outputs": [],
   "source": []
  },
  {
   "cell_type": "code",
   "execution_count": null,
   "id": "84925871",
   "metadata": {},
   "outputs": [],
   "source": []
  },
  {
   "cell_type": "code",
   "execution_count": 7,
   "id": "3a0b1ab6",
   "metadata": {},
   "outputs": [
    {
     "data": {
      "text/plain": [
       "('i', 'e')"
      ]
     },
     "execution_count": 7,
     "metadata": {},
     "output_type": "execute_result"
    }
   ],
   "source": [
    "#String operation\n",
    "txt=\"ice creame\"\n",
    "txt[0], txt[2]"
   ]
  },
  {
   "cell_type": "code",
   "execution_count": 8,
   "id": "c4d0f29b",
   "metadata": {},
   "outputs": [
    {
     "data": {
      "text/plain": [
       "'e creame'"
      ]
     },
     "execution_count": 8,
     "metadata": {},
     "output_type": "execute_result"
    }
   ],
   "source": [
    "txt[2:]"
   ]
  },
  {
   "cell_type": "code",
   "execution_count": 9,
   "id": "6d5d49e0",
   "metadata": {},
   "outputs": [
    {
     "data": {
      "text/plain": [
       "'ice '"
      ]
     },
     "execution_count": 9,
     "metadata": {},
     "output_type": "execute_result"
    }
   ],
   "source": [
    "txt[:4]"
   ]
  },
  {
   "cell_type": "code",
   "execution_count": 10,
   "id": "9379f30e",
   "metadata": {},
   "outputs": [
    {
     "data": {
      "text/plain": [
       "'r303 amber palace\\nnansad road kamrej\\nsurat\\n394185\\nguj'"
      ]
     },
     "execution_count": 10,
     "metadata": {},
     "output_type": "execute_result"
    }
   ],
   "source": [
    "adress='''r303 amber palace\n",
    "nansad road kamrej\n",
    "surat\n",
    "394185\n",
    "guj'''\n",
    "adress"
   ]
  },
  {
   "cell_type": "code",
   "execution_count": 11,
   "id": "c1d3e22c",
   "metadata": {},
   "outputs": [
    {
     "data": {
      "text/plain": [
       "'deep   patel'"
      ]
     },
     "execution_count": 11,
     "metadata": {},
     "output_type": "execute_result"
    }
   ],
   "source": [
    "s1=\"deep\"\n",
    "s2=\"patel\"\n",
    "name=s1+'   '+s2\n",
    "name"
   ]
  },
  {
   "cell_type": "code",
   "execution_count": 12,
   "id": "c97e1d18",
   "metadata": {},
   "outputs": [
    {
     "data": {
      "text/plain": [
       "'deep25'"
      ]
     },
     "execution_count": 12,
     "metadata": {},
     "output_type": "execute_result"
    }
   ],
   "source": [
    "s3=25\n",
    "name=s1+str(s3)\n",
    "name"
   ]
  },
  {
   "cell_type": "code",
   "execution_count": null,
   "id": "9a95d8d3",
   "metadata": {},
   "outputs": [],
   "source": []
  },
  {
   "cell_type": "code",
   "execution_count": null,
   "id": "152fddc5",
   "metadata": {},
   "outputs": [],
   "source": []
  },
  {
   "cell_type": "code",
   "execution_count": null,
   "id": "f23af3b7",
   "metadata": {},
   "outputs": [],
   "source": []
  },
  {
   "cell_type": "code",
   "execution_count": null,
   "id": "bfe03107",
   "metadata": {},
   "outputs": [],
   "source": []
  },
  {
   "cell_type": "code",
   "execution_count": 13,
   "id": "50e4f7e6",
   "metadata": {},
   "outputs": [
    {
     "data": {
      "text/plain": [
       "['Deep', 'jeel', 'shiv', 'nimil']"
      ]
     },
     "execution_count": 13,
     "metadata": {},
     "output_type": "execute_result"
    }
   ],
   "source": [
    "#List\n",
    "items=['Deep','jeel','shiv','nimil']\n",
    "items"
   ]
  },
  {
   "cell_type": "code",
   "execution_count": 14,
   "id": "b019138b",
   "metadata": {},
   "outputs": [
    {
     "data": {
      "text/plain": [
       "'Deep'"
      ]
     },
     "execution_count": 14,
     "metadata": {},
     "output_type": "execute_result"
    }
   ],
   "source": [
    "items[0]"
   ]
  },
  {
   "cell_type": "code",
   "execution_count": 15,
   "id": "a2032776",
   "metadata": {},
   "outputs": [
    {
     "data": {
      "text/plain": [
       "['Deep', 'jeel', 'shiv', 'nimil', 'bhano']"
      ]
     },
     "execution_count": 15,
     "metadata": {},
     "output_type": "execute_result"
    }
   ],
   "source": [
    "#append add in last \n",
    "items.append('bhano')\n",
    "items"
   ]
  },
  {
   "cell_type": "code",
   "execution_count": 16,
   "id": "c6cf24fe",
   "metadata": {},
   "outputs": [
    {
     "data": {
      "text/plain": [
       "['Deep', 'jeel', 'shiv', 'shivans', 'nimil', 'bhano']"
      ]
     },
     "execution_count": 16,
     "metadata": {},
     "output_type": "execute_result"
    }
   ],
   "source": [
    "#inser use for add in any location you whant \n",
    "#insert(location number,name)\n",
    "items.insert(3,'shivans')\n",
    "items"
   ]
  },
  {
   "cell_type": "code",
   "execution_count": 17,
   "id": "c9349a5c",
   "metadata": {},
   "outputs": [
    {
     "name": "stdout",
     "output_type": "stream",
     "text": [
      "6\n"
     ]
    }
   ],
   "source": [
    "#len()\n",
    "#len() use for find the lenght of the function\n",
    "print(len(items))"
   ]
  },
  {
   "cell_type": "code",
   "execution_count": 18,
   "id": "497f843e",
   "metadata": {},
   "outputs": [
    {
     "data": {
      "text/plain": [
       "['khaman', 'dhokla', 'idra', 'patudi', 'chass', 'coco', 'thumsup', 'fenta']"
      ]
     },
     "execution_count": 18,
     "metadata": {},
     "output_type": "execute_result"
    }
   ],
   "source": [
    "food=['khaman','dhokla','idra','patudi']\n",
    "drinks=['chass','coco','thumsup','fenta']\n",
    "lunch=food+drinks\n",
    "lunch"
   ]
  },
  {
   "cell_type": "code",
   "execution_count": 19,
   "id": "783d9073",
   "metadata": {},
   "outputs": [
    {
     "data": {
      "text/plain": [
       "8"
      ]
     },
     "execution_count": 19,
     "metadata": {},
     "output_type": "execute_result"
    }
   ],
   "source": [
    "len(lunch)"
   ]
  },
  {
   "cell_type": "code",
   "execution_count": 20,
   "id": "42bdb210",
   "metadata": {},
   "outputs": [
    {
     "data": {
      "text/plain": [
       "True"
      ]
     },
     "execution_count": 20,
     "metadata": {},
     "output_type": "execute_result"
    }
   ],
   "source": [
    "'khaman' in lunch"
   ]
  },
  {
   "cell_type": "code",
   "execution_count": 21,
   "id": "39c56796",
   "metadata": {},
   "outputs": [
    {
     "data": {
      "text/plain": [
       "True"
      ]
     },
     "execution_count": 21,
     "metadata": {},
     "output_type": "execute_result"
    }
   ],
   "source": [
    "'dhokla' in lunch"
   ]
  },
  {
   "cell_type": "code",
   "execution_count": 23,
   "id": "41de950b",
   "metadata": {},
   "outputs": [
    {
     "name": "stdout",
     "output_type": "stream",
     "text": [
      "Enter the number10\n",
      "number is even\n"
     ]
    }
   ],
   "source": [
    "#if statement in python\n",
    "num=input('Enter the number')\n",
    "num=int(num)\n",
    "if num%2 == 0:\n",
    "    print('number is even')\n",
    "else:\n",
    "    print('number is odd')"
   ]
  },
  {
   "cell_type": "code",
   "execution_count": null,
   "id": "f4b66033",
   "metadata": {},
   "outputs": [],
   "source": []
  },
  {
   "cell_type": "code",
   "execution_count": null,
   "id": "1a05e9f3",
   "metadata": {},
   "outputs": [],
   "source": []
  },
  {
   "cell_type": "code",
   "execution_count": 24,
   "id": "795a9789",
   "metadata": {},
   "outputs": [
    {
     "name": "stdout",
     "output_type": "stream",
     "text": [
      "16350\n"
     ]
    }
   ],
   "source": [
    "#For loop\n",
    "exp=[2200,2300,2500,250,4100,5000]\n",
    "total=0\n",
    "for i in exp:\n",
    "    total=total+i\n",
    "print(total)"
   ]
  },
  {
   "cell_type": "code",
   "execution_count": 25,
   "id": "147767de",
   "metadata": {},
   "outputs": [
    {
     "name": "stdout",
     "output_type": "stream",
     "text": [
      "1\n",
      "2\n",
      "3\n",
      "4\n",
      "5\n",
      "6\n",
      "7\n",
      "8\n",
      "9\n",
      "10\n",
      "11\n",
      "12\n",
      "13\n",
      "14\n",
      "15\n",
      "16\n",
      "17\n",
      "18\n",
      "19\n"
     ]
    }
   ],
   "source": [
    "#range(start,end)\n",
    "\n",
    "for i in range(1,20):\n",
    "    print(i)"
   ]
  },
  {
   "cell_type": "code",
   "execution_count": 26,
   "id": "86c8407c",
   "metadata": {},
   "outputs": [
    {
     "name": "stdout",
     "output_type": "stream",
     "text": [
      "not found\n",
      "not found\n",
      "not found\n",
      "not found\n",
      "5\n"
     ]
    }
   ],
   "source": [
    "for i in range(1,20):\n",
    "    if i==5:\n",
    "        print(i)\n",
    "        break\n",
    "    else:\n",
    "        print('not found')"
   ]
  },
  {
   "cell_type": "code",
   "execution_count": null,
   "id": "b6e0ca61",
   "metadata": {},
   "outputs": [],
   "source": []
  },
  {
   "cell_type": "code",
   "execution_count": 27,
   "id": "1e3bad8e",
   "metadata": {},
   "outputs": [
    {
     "name": "stdout",
     "output_type": "stream",
     "text": [
      "0\n",
      "1\n",
      "2\n",
      "3\n",
      "4\n"
     ]
    }
   ],
   "source": [
    "#while loop\n",
    "i=0\n",
    "while i<5:\n",
    "    print(i)\n",
    "    i=i+1"
   ]
  },
  {
   "cell_type": "code",
   "execution_count": 28,
   "id": "5e5faa0f",
   "metadata": {},
   "outputs": [
    {
     "name": "stdout",
     "output_type": "stream",
     "text": [
      "3\n"
     ]
    }
   ],
   "source": [
    "#Function\n",
    "# def is a key word to defin the funtion\n",
    "'''\n",
    "this is how to note any funtion description in code\n",
    "calculate_sum(val1, val2) is use for calculate the sum \n",
    "    Input para \n",
    "    int a\n",
    "    int b\n",
    "    return c\n",
    "'''\n",
    "def calculate_sum(a,b):\n",
    "    c=a+b\n",
    "    return c\n",
    "print(calculate_sum(1,2))"
   ]
  },
  {
   "cell_type": "code",
   "execution_count": 32,
   "id": "d3513f57",
   "metadata": {},
   "outputs": [
    {
     "name": "stdout",
     "output_type": "stream",
     "text": [
      "16350\n"
     ]
    }
   ],
   "source": [
    "def calculate_total_exp(item):\n",
    "    total=0\n",
    "    for i in exp:\n",
    "        total=total+i\n",
    "    return total\n",
    "print(calculate_total_exp(exp))"
   ]
  },
  {
   "cell_type": "code",
   "execution_count": 34,
   "id": "992b242e",
   "metadata": {},
   "outputs": [
    {
     "data": {
      "text/plain": [
       "{'Deep': 201903100110041, 'shiv': 201903100110042, 'nimil': 201903100110043}"
      ]
     },
     "execution_count": 34,
     "metadata": {},
     "output_type": "execute_result"
    }
   ],
   "source": [
    "#Dictionary: its allow you to store key value pair like map hashtable\n",
    "d={\"Deep\":201903100110041,\"shiv\":201903100110042,\"nimil\":201903100110043}\n",
    "d"
   ]
  },
  {
   "cell_type": "code",
   "execution_count": 35,
   "id": "50e97c5f",
   "metadata": {},
   "outputs": [
    {
     "data": {
      "text/plain": [
       "201903100110041"
      ]
     },
     "execution_count": 35,
     "metadata": {},
     "output_type": "execute_result"
    }
   ],
   "source": [
    "d['Deep']"
   ]
  },
  {
   "cell_type": "code",
   "execution_count": 38,
   "id": "309e49f7",
   "metadata": {},
   "outputs": [
    {
     "data": {
      "text/plain": [
       "20190310011045"
      ]
     },
     "execution_count": 38,
     "metadata": {},
     "output_type": "execute_result"
    }
   ],
   "source": [
    "edit=d['Deep']=20190310011045\n",
    "edit"
   ]
  },
  {
   "cell_type": "code",
   "execution_count": 37,
   "id": "693db0c3",
   "metadata": {},
   "outputs": [
    {
     "data": {
      "text/plain": [
       "20190310011045"
      ]
     },
     "execution_count": 37,
     "metadata": {},
     "output_type": "execute_result"
    }
   ],
   "source": []
  },
  {
   "cell_type": "code",
   "execution_count": 39,
   "id": "ad00b5a9",
   "metadata": {},
   "outputs": [
    {
     "data": {
      "text/plain": [
       "{'shiv': 201903100110042, 'nimil': 201903100110043}"
      ]
     },
     "execution_count": 39,
     "metadata": {},
     "output_type": "execute_result"
    }
   ],
   "source": [
    "#delete\n",
    "del d['Deep']\n",
    "d\n"
   ]
  },
  {
   "cell_type": "code",
   "execution_count": 40,
   "id": "a6145775",
   "metadata": {},
   "outputs": [
    {
     "name": "stdout",
     "output_type": "stream",
     "text": [
      "the key is  Deep\n",
      "the key is  shiv\n",
      "the key is  nimil\n"
     ]
    }
   ],
   "source": [
    "#all entries\n",
    "d={\"Deep\":201903100110041,\"shiv\":201903100110042,\"nimil\":201903100110043}\n",
    "for key in d:\n",
    "    print('the key is ',key)"
   ]
  },
  {
   "cell_type": "code",
   "execution_count": 41,
   "id": "9a8b4f47",
   "metadata": {},
   "outputs": [
    {
     "name": "stdout",
     "output_type": "stream",
     "text": [
      "key : Deep value : 201903100110041\n",
      "key : shiv value : 201903100110042\n",
      "key : nimil value : 201903100110043\n"
     ]
    }
   ],
   "source": [
    "\n",
    "for k,v in d.items():\n",
    "    print(\"key :\",k,\"value :\",v)"
   ]
  },
  {
   "cell_type": "code",
   "execution_count": 43,
   "id": "fe76861b",
   "metadata": {},
   "outputs": [
    {
     "data": {
      "text/plain": [
       "{}"
      ]
     },
     "execution_count": 43,
     "metadata": {},
     "output_type": "execute_result"
    }
   ],
   "source": [
    "#clear is function to use clear the dictionary\n",
    "d.clear()\n",
    "d"
   ]
  },
  {
   "cell_type": "code",
   "execution_count": 56,
   "id": "a0ff65c5",
   "metadata": {},
   "outputs": [
    {
     "name": "stdout",
     "output_type": "stream",
     "text": [
      "\n"
     ]
    }
   ],
   "source": [
    "'''\n",
    "This code is for file handling in py \n",
    "operation \n",
    "    -read\n",
    "    -write\n",
    "'''\n",
    "import sys\n",
    "f=open(\"chat.txt\",\"w+\")\n",
    "# f.write(\"Helllo python \\n\")\n",
    "print(f.read())\n",
    "for line in f:\n",
    "    t=line.split(\" \")\n",
    "    print('Hi')\n",
    "    print(len(t))"
   ]
  },
  {
   "cell_type": "code",
   "execution_count": 57,
   "id": "3d1670d5",
   "metadata": {},
   "outputs": [],
   "source": [
    "for line in f:\n",
    "    t=line.split(\" \")\n",
    "    print('Hi')\n",
    "    print(len(t))"
   ]
  },
  {
   "cell_type": "code",
   "execution_count": null,
   "id": "caaa0f79",
   "metadata": {},
   "outputs": [],
   "source": []
  }
 ],
 "metadata": {
  "kernelspec": {
   "display_name": "Python 3 (ipykernel)",
   "language": "python",
   "name": "python3"
  },
  "language_info": {
   "codemirror_mode": {
    "name": "ipython",
    "version": 3
   },
   "file_extension": ".py",
   "mimetype": "text/x-python",
   "name": "python",
   "nbconvert_exporter": "python",
   "pygments_lexer": "ipython3",
   "version": "3.9.13"
  }
 },
 "nbformat": 4,
 "nbformat_minor": 5
}
